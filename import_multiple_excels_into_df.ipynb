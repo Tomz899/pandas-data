{
 "cells": [
  {
   "cell_type": "code",
   "execution_count": 4,
   "id": "8ba5ee53",
   "metadata": {},
   "outputs": [],
   "source": [
    "import pandas as pd\n",
    "import glob\n",
    "import os.path\n",
    "\n",
    "# Define path to files\n",
    "path = r'your\\path\\to\\file' \n",
    "all_files = glob.glob(os.path.join(path, \"*.xlsm\"))\n",
    "\n",
    "# Create a list of all the files in the folder\n",
    "filenames = []\n",
    "\n",
    "for f in all_files:\n",
    "    # Define sheet name and place data starts\n",
    "    df = pd.read_excel(f, sheet_name='Sheet1', header= 1,\n",
    "                       usecols=['col1','col2'])\n",
    "    # Create column with filename in df\n",
    "    df['filename'] = os.path.basename(f)\n",
    "    filenames.append(df)\n",
    "\n",
    "# Concatenate all_files to one dataframe\n",
    "concatenated_df = pd.concat(filenames, axis=0, ignore_index=True)\n",
    "#concatenated_df = stack.set_index('ModelColor') # This column is the index column !! brakes the filename and gives full path\n",
    "\n",
    "# Write output to excel file\n",
    "concatenated_df.to_excel(r'your\\new_path\\to\\file\\output_extended.xlsx')"
   ]
  },
  {
   "cell_type": "code",
   "execution_count": null,
   "id": "5b4681f2",
   "metadata": {},
   "outputs": [],
   "source": []
  }
 ],
 "metadata": {
  "kernelspec": {
   "display_name": "Python 3",
   "language": "python",
   "name": "python3"
  },
  "language_info": {
   "codemirror_mode": {
    "name": "ipython",
    "version": 3
   },
   "file_extension": ".py",
   "mimetype": "text/x-python",
   "name": "python",
   "nbconvert_exporter": "python",
   "pygments_lexer": "ipython3",
   "version": "3.8.8"
  }
 },
 "nbformat": 4,
 "nbformat_minor": 5
}
